{
 "cells": [
  {
   "cell_type": "markdown",
   "metadata": {},
   "source": [
    "# Exercise 2: Part 3"
   ]
  },
  {
   "cell_type": "markdown",
   "metadata": {},
   "source": [
    "# Import the necessary libraries and open the data set"
   ]
  },
  {
   "cell_type": "code",
   "execution_count": 215,
   "metadata": {},
   "outputs": [],
   "source": [
    "import pandas as pd\n",
    "import numpy as np\n",
    "from sklearn.model_selection import KFold\n",
    "from sklearn.tree import DecisionTreeClassifier\n",
    "from sklearn.ensemble import RandomForestClassifier\n",
    "from sklearn.cross_validation import train_test_split, ShuffleSplit, cross_val_score\n",
    "from sklearn import preprocessing\n",
    "from sklearn.naive_bayes import MultinomialNB\n",
    "from sklearn import svm\n",
    "from sklearn.metrics import accuracy_score\n",
    "import matplotlib.pyplot as plt\n",
    "import csv\n",
    "from math import log\n",
    "\n",
    "df = pd.read_csv('train.tsv', sep='\\t')\n",
    "target = df[\"Label\"]"
   ]
  },
  {
   "cell_type": "markdown",
   "metadata": {},
   "source": [
    "# Entropy Calculation Function"
   ]
  },
  {
   "cell_type": "code",
   "execution_count": 216,
   "metadata": {
    "collapsed": true
   },
   "outputs": [],
   "source": [
    "def entropy(data):\n",
    "    count = data.shape[0]\n",
    "    if(count==0):\n",
    "        return 0\n",
    "    good = len(data[data[\"Label\"]==1])\n",
    "    bad = len(data[data[\"Label\"]==2])\n",
    "    goodper = good / count\n",
    "    badper = bad/count\n",
    "    goodentropy =0.0\n",
    "    if(good>0):\n",
    "        goodentropy = -(goodper*log(goodper, 2))\n",
    "    badentropy =0.0\n",
    "    if(bad>0):\n",
    "        badentropy = -(badper*log(badper, 2))\n",
    "    entropy = goodentropy+badentropy\n",
    "    return entropy"
   ]
  },
  {
   "cell_type": "markdown",
   "metadata": {},
   "source": [
    "# Calculate the train set's category."
   ]
  },
  {
   "cell_type": "code",
   "execution_count": 217,
   "metadata": {
    "collapsed": true
   },
   "outputs": [],
   "source": [
    "data_set_entropy=entropy(df)\n",
    "count = len(df)"
   ]
  },
  {
   "cell_type": "markdown",
   "metadata": {},
   "source": [
    "# Because those 3 numerical attributes have a big variety of values we have to convert them to categorical."
   ]
  },
  {
   "cell_type": "code",
   "execution_count": 218,
   "metadata": {},
   "outputs": [],
   "source": [
    "Attributes = list(df.columns.values)\n",
    "Attributes.remove('Id')\n",
    "Attributes.remove('Label')\n",
    "\n",
    "ndf = df.copy()\n",
    "\n",
    "NumericalAttributes = ['Attribute2', 'Attribute5',  'Attribute13']\n",
    "for Attribute in NumericalAttributes:\n",
    "    ndf[Attribute] = pd.qcut(df[Attribute], 5)\n",
    "    \n"
   ]
  },
  {
   "cell_type": "markdown",
   "metadata": {},
   "source": [
    "# Calculate the Information Gain for each Attribute."
   ]
  },
  {
   "cell_type": "code",
   "execution_count": 219,
   "metadata": {},
   "outputs": [],
   "source": [
    "Attributes = list(df.columns.values)\n",
    "Attributes.remove('Id')\n",
    "Attributes.remove('Label')\n",
    "\n",
    "InformationGain_list=[]\n",
    "for Attribute in Attributes:\n",
    "    Attribute_values= list(ndf[Attribute].unique())\n",
    "    attr_entropy = 0.0\n",
    "    for value in Attribute_values:\n",
    "        value_set= ndf[ndf[Attribute]==value]\n",
    "        attr_entropy += (len(value_set)/count)*entropy(value_set)\n",
    "    InformationGain_list.append((Attribute, data_set_entropy-attr_entropy))"
   ]
  },
  {
   "cell_type": "markdown",
   "metadata": {},
   "source": [
    "# Sort the Information Gain List, convert the categorical to numerical."
   ]
  },
  {
   "cell_type": "code",
   "execution_count": 220,
   "metadata": {
    "collapsed": true
   },
   "outputs": [],
   "source": [
    "InformationGain_list.sort(key=lambda tup: tup[1])\n",
    "\n",
    "categories = [\"Attribute1\",\"Attribute3\",\"Attribute4\",\"Attribute6\",\"Attribute7\",\"Attribute9\",\"Attribute10\",\"Attribute10\",\"Attribute12\",\"Attribute14\",\"Attribute15\", \"Attribute17\", \"Attribute19\",\"Attribute20\"]\n",
    "target = df[\"Label\"]\n",
    "\n",
    "new_df = df.copy()\n",
    "for x in categories:\n",
    "    converted = pd.Categorical(df[x])\n",
    "    new_df[x] = converted.codes"
   ]
  },
  {
   "cell_type": "markdown",
   "metadata": {},
   "source": [
    "# Print the Array with the Attribute Removal Queue and the Information Gain for each one."
   ]
  },
  {
   "cell_type": "code",
   "execution_count": 221,
   "metadata": {},
   "outputs": [
    {
     "name": "stdout",
     "output_type": "stream",
     "text": [
      "Exclude No:  0  \tAttribute:  Attribute18  \tInformation Gain:  0.0001296657019278502\n",
      "Exclude No:  1  \tAttribute:  Attribute11  \tInformation Gain:  0.00022057134927411237\n",
      "Exclude No:  2  \tAttribute:  Attribute19  \tInformation Gain:  0.0012028625910776025\n",
      "Exclude No:  3  \tAttribute:  Attribute16  \tInformation Gain:  0.002395770112591733\n",
      "Exclude No:  4  \tAttribute:  Attribute17  \tInformation Gain:  0.0029403166312881313\n",
      "Exclude No:  5  \tAttribute:  Attribute10  \tInformation Gain:  0.005674399790160045\n",
      "Exclude No:  6  \tAttribute:  Attribute14  \tInformation Gain:  0.007041506325139002\n",
      "Exclude No:  7  \tAttribute:  Attribute8  \tInformation Gain:  0.007330500076830004\n",
      "Exclude No:  8  \tAttribute:  Attribute20  \tInformation Gain:  0.007704386546436126\n",
      "Exclude No:  9  \tAttribute:  Attribute15  \tInformation Gain:  0.011618886823694607\n",
      "Exclude No:  10  \tAttribute:  Attribute13  \tInformation Gain:  0.0117447128999153\n",
      "Exclude No:  11  \tAttribute:  Attribute9  \tInformation Gain:  0.012746841156174304\n",
      "Exclude No:  12  \tAttribute:  Attribute7  \tInformation Gain:  0.014547865230223445\n",
      "Exclude No:  13  \tAttribute:  Attribute12  \tInformation Gain:  0.014905530877295403\n",
      "Exclude No:  14  \tAttribute:  Attribute5  \tInformation Gain:  0.015294038701320956\n",
      "Exclude No:  15  \tAttribute:  Attribute6  \tInformation Gain:  0.02219896605243432\n",
      "Exclude No:  16  \tAttribute:  Attribute4  \tInformation Gain:  0.02689745203308369\n",
      "Exclude No:  17  \tAttribute:  Attribute2  \tInformation Gain:  0.031782332193863394\n",
      "Exclude No:  18  \tAttribute:  Attribute3  \tInformation Gain:  0.03788940622151615\n",
      "Exclude No:  19  \tAttribute:  Attribute1  \tInformation Gain:  0.09382796302345509\n"
     ]
    }
   ],
   "source": [
    "for n in range(len(InformationGain_list)):\n",
    "    print('Exclude No: ',n,' \\tAttribute: ', InformationGain_list[n][0],' \\tInformation Gain: ',InformationGain_list[n][1])"
   ]
  },
  {
   "cell_type": "markdown",
   "metadata": {},
   "source": [
    "# Loop where we remove an attribute each time, we do 10-fold cross validation and we record the accuracy. \n",
    "# We keep the max accuracy in order to use it in testSet_Predictions."
   ]
  },
  {
   "cell_type": "code",
   "execution_count": 222,
   "metadata": {},
   "outputs": [],
   "source": [
    "kf = KFold(n_splits=10)\n",
    "\n",
    "cutted_df = df.copy()\n",
    "exclude=[\"Id\", \"Label\"]\n",
    "xlist =[]\n",
    "ylist =[]\n",
    "max = 0.0\n",
    "maxcount =0\n",
    "for count in range(len(InformationGain_list)):\n",
    "    if(count>0): \n",
    "        attr = InformationGain_list[count-1][0]\n",
    "        exclude.append(attr)\n",
    "    \n",
    "    my_df = new_df.copy()\n",
    "    \n",
    "    excl =df.columns.difference(exclude)\n",
    "    new_df_to_use = new_df[excl]\n",
    "    \n",
    "    xlist.append(len(InformationGain_list)-count)\n",
    "    RANDOM_STATE = 123\n",
    "    \n",
    "    accuracy = 0.0\n",
    "\n",
    "    for x,y in kf.split(new_df_to_use):\n",
    "        test = new_df_to_use.loc[y,new_df_to_use.columns]\n",
    "        train = new_df_to_use.loc[x, new_df_to_use.columns]\n",
    "        current_target = target[x]\n",
    "\n",
    "        classifier= RandomForestClassifier(random_state=RANDOM_STATE)\n",
    "        clf = classifier.fit(train,current_target)\n",
    "        yPred = clf.predict(test)\n",
    "        acc = accuracy_score(target[y], yPred)\n",
    "        accuracy += acc\n",
    "\n",
    "    accuracyRF = accuracy/10\n",
    "    if(max < accuracyRF):\n",
    "        max = accuracyRF\n",
    "        maxcount =len(InformationGain_list)-count\n",
    "    ylist.append(accuracyRF)"
   ]
  },
  {
   "cell_type": "markdown",
   "metadata": {},
   "source": [
    "# Show the Accuracy Plot"
   ]
  },
  {
   "cell_type": "code",
   "execution_count": 223,
   "metadata": {},
   "outputs": [
    {
     "data": {
      "image/png": "[encoded data removed]",
      "text/plain": [
       "<matplotlib.figure.Figure at 0x7f01deac8be0>"
      ]
     },
     "metadata": {},
     "output_type": "display_data"
    }
   ],
   "source": [
    "plt.plot(xlist, ylist, \"ro-\")\n",
    "plt.title('Accuracy Plot')\n",
    "plt.ylabel('Accuracy')\n",
    "plt.xlabel('Attributes used')\n",
    "plt.show()"
   ]
  },
  {
   "cell_type": "markdown",
   "metadata": {},
   "source": [
    "# We create the exclude list in order to get the max accuracy by removing them."
   ]
  },
  {
   "cell_type": "code",
   "execution_count": 224,
   "metadata": {
    "scrolled": true
   },
   "outputs": [],
   "source": [
    "exclude=[\"Id\", \"Label\"]\n",
    "for count in range(maxcount):\n",
    "    if(count>0): \n",
    "        attr = InformationGain_list[count-1][0]\n",
    "        exclude.append(attr)"
   ]
  },
  {
   "cell_type": "markdown",
   "metadata": {},
   "source": [
    "# Open test.tsv convert its attributes to numerical and cut the attributes we don't need."
   ]
  },
  {
   "cell_type": "code",
   "execution_count": 225,
   "metadata": {},
   "outputs": [],
   "source": [
    "dfT = pd.read_csv('test.tsv', sep='\\t')\n",
    "categories = [\"Attribute1\",\"Attribute3\",\"Attribute4\",\"Attribute6\",\"Attribute7\",\"Attribute9\",\"Attribute10\",\"Attribute12\",\"Attribute14\",\"Attribute15\", \"Attribute17\", \"Attribute19\",\"Attribute20\"]\n",
    "new_dfT = dfT.copy()\n",
    "\n",
    "IDs = dfT[\"Id\"]\n",
    "for x in categories:\n",
    "    converted = pd.Categorical(dfT[x])\n",
    "    new_dfT[x] = converted.codes\n",
    "\n",
    "\n",
    "excl =df.columns.difference(exclude)\n",
    "new_df_to_use = new_df[excl]\n",
    "    \n",
    "dfneT =dfT.columns.difference(exclude)\n",
    "new_dfT = new_dfT[dfneT]\n",
    "\n",
    "category_dict = {1:'Good', 2:'Bad'}"
   ]
  },
  {
   "cell_type": "markdown",
   "metadata": {},
   "source": [
    "# Call the Random Forest Classifier, as he had the best accuracy. \n",
    "# Print the results in the testSet_Predictions.csv."
   ]
  },
  {
   "cell_type": "code",
   "execution_count": 226,
   "metadata": {},
   "outputs": [
    {
     "name": "stdout",
     "output_type": "stream",
     "text": [
      "Created testSet_categories_Predictions.csv\n"
     ]
    }
   ],
   "source": [
    "classifier = RandomForestClassifier(random_state=RANDOM_STATE)\n",
    "classifier.fit(new_df_to_use, target)\n",
    "prediction = classifier.predict(new_dfT)\n",
    "\n",
    "id =0\n",
    "with open('testSet_categories_Predictions.csv', 'w') as csvfile:\n",
    "    fieldnames = ['ID', 'Label']\n",
    "    writer = csv.DictWriter(csvfile, fieldnames = fieldnames, delimiter='\\t')\n",
    "    writer.writeheader()\n",
    "    for i in range(len(prediction)):\n",
    "        writer.writerow({'ID': IDs[i], 'Label': category_dict[prediction[i]]})\n",
    "        id +=1\n",
    "print('Created testSet_categories_Predictions.csv')"
   ]
  }
 ],
 "metadata": {
  "kernelspec": {
   "display_name": "Python 3",
   "language": "python",
   "name": "python3"
  },
  "language_info": {
   "codemirror_mode": {
    "name": "ipython",
    "version": 3
   },
   "file_extension": ".py",
   "mimetype": "text/x-python",
   "name": "python",
   "nbconvert_exporter": "python",
   "pygments_lexer": "ipython3",
   "version": "3.6.1"
  }
 },
 "nbformat": 4,
 "nbformat_minor": 2
}
