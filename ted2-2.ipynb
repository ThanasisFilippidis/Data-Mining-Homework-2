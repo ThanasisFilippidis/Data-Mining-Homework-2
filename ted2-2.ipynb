{
 "cells": [
  {
   "cell_type": "markdown",
   "metadata": {},
   "source": [
    "# Exercice 2: Part 2"
   ]
  },
  {
   "cell_type": "markdown",
   "metadata": {},
   "source": [
    "# Import the necessary libraries and open the data set"
   ]
  },
  {
   "cell_type": "code",
   "execution_count": 10,
   "metadata": {},
   "outputs": [],
   "source": [
    "import pandas as pd\n",
    "import numpy as np\n",
    "from sklearn.model_selection import KFold\n",
    "from sklearn.tree import DecisionTreeClassifier\n",
    "from sklearn.ensemble import RandomForestClassifier\n",
    "from sklearn.cross_validation import train_test_split, ShuffleSplit, cross_val_score\n",
    "from sklearn import preprocessing\n",
    "from sklearn.naive_bayes import MultinomialNB\n",
    "from sklearn import svm\n",
    "from sklearn.metrics import accuracy_score\n",
    "import matplotlib.pyplot as plt\n",
    "import csv\n",
    "import numpy\n",
    "\n",
    "df = pd.read_csv('train.tsv', sep='\\t')\n",
    "target = df[\"Label\"]"
   ]
  },
  {
   "cell_type": "markdown",
   "metadata": {},
   "source": [
    "# Convert Categorical To Numerical"
   ]
  },
  {
   "cell_type": "code",
   "execution_count": 11,
   "metadata": {
    "collapsed": true
   },
   "outputs": [],
   "source": [
    "categories = [\"Attribute1\",\"Attribute3\",\"Attribute4\",\"Attribute6\",\"Attribute7\",\"Attribute9\",\"Attribute10\",\"Attribute10\",\"Attribute12\",\"Attribute14\",\"Attribute15\", \"Attribute17\", \"Attribute19\",\"Attribute20\"]\n",
    "\n",
    "new_df = df.copy()\n",
    "target\n",
    "for x in categories:\n",
    "    converted = pd.Categorical(df[x])\n",
    "    new_df[x] = converted.codes\n",
    "my_df = new_df.copy()\n",
    "exclude=[\"Id\", \"Label\"]\n",
    "dfne =df.columns.difference(exclude)\n",
    "new_df = new_df[dfne]"
   ]
  },
  {
   "cell_type": "markdown",
   "metadata": {},
   "source": [
    "# SVM"
   ]
  },
  {
   "cell_type": "code",
   "execution_count": 12,
   "metadata": {},
   "outputs": [
    {
     "name": "stdout",
     "output_type": "stream",
     "text": [
      "0.65\n"
     ]
    }
   ],
   "source": [
    "kf = KFold(n_splits=10)\n",
    "\n",
    "RANDOM_STATE = 123\n",
    "\n",
    "accuracy = 0.0\n",
    "\n",
    "for x,y in kf.split(new_df):\n",
    "    test = new_df.loc[y,new_df.columns]\n",
    "    train = new_df.loc[x, new_df.columns]\n",
    "    current_target = target[x]\n",
    "    \n",
    "    classifier = svm.LinearSVC(random_state=RANDOM_STATE)\n",
    "    clf=classifier.fit(train, current_target)\n",
    "    yPred = clf.predict(test)\n",
    "    acc = accuracy_score(target[y], yPred)\n",
    "    accuracy += acc\n",
    "    \n",
    "accuracySVM = accuracy/10\n",
    "print(accuracySVM)"
   ]
  },
  {
   "cell_type": "markdown",
   "metadata": {},
   "source": [
    "# RANDOM FOREST CLASSIFICATION"
   ]
  },
  {
   "cell_type": "code",
   "execution_count": 13,
   "metadata": {},
   "outputs": [
    {
     "name": "stdout",
     "output_type": "stream",
     "text": [
      "0.75\n"
     ]
    }
   ],
   "source": [
    "kf = KFold(n_splits=10)\n",
    "\n",
    "RANDOM_STATE = 123\n",
    "\n",
    "accuracy = 0.0\n",
    "\n",
    "for x,y in kf.split(new_df):\n",
    "    test = new_df.loc[y,new_df.columns]\n",
    "    train = new_df.loc[x, new_df.columns]\n",
    "    current_target = target[x]\n",
    "    \n",
    "    classifier= RandomForestClassifier(random_state=RANDOM_STATE)\n",
    "    clf = classifier.fit(train,current_target)\n",
    "    yPred = clf.predict(test)\n",
    "    acc = accuracy_score(target[y], yPred)\n",
    "    accuracy += acc\n",
    "    \n",
    "accuracyRF = accuracy/10\n",
    "print(accuracyRF)"
   ]
  },
  {
   "cell_type": "markdown",
   "metadata": {},
   "source": [
    "# Naive Bayes"
   ]
  },
  {
   "cell_type": "code",
   "execution_count": 14,
   "metadata": {
    "scrolled": true
   },
   "outputs": [
    {
     "name": "stdout",
     "output_type": "stream",
     "text": [
      "0.6375\n"
     ]
    }
   ],
   "source": [
    "kf = KFold(n_splits=10)\n",
    "\n",
    "accuracy = 0.0\n",
    "\n",
    "for x,y in kf.split(new_df):\n",
    "    test = new_df.loc[y,new_df.columns]\n",
    "    train = new_df.loc[x, new_df.columns]\n",
    "    current_target = target[x]\n",
    "    \n",
    "    classifier= MultinomialNB()\n",
    "    clf = classifier.fit(train,current_target)\n",
    "    yPred = clf.predict(test)\n",
    "    acc = accuracy_score(target[y], yPred)\n",
    "    accuracy += acc\n",
    "    \n",
    "accuracyNB = accuracy/10\n",
    "print(accuracyNB)"
   ]
  },
  {
   "cell_type": "markdown",
   "metadata": {},
   "source": [
    "# We will use the 3rd part of the exercise to create the TestSetCategories.csv but we could do that here by executing the following code:"
   ]
  },
  {
   "cell_type": "code",
   "execution_count": 15,
   "metadata": {
    "collapsed": true
   },
   "outputs": [],
   "source": [
    "# with open('EvalutionMetric_10fold.csv', 'w') as csvfile5:\n",
    "#     fieldnames = ['Statistic Measure', 'SVM', 'Random Forest', 'Naive Bayes']\n",
    "#     writer = csv.DictWriter(csvfile5, fieldnames = fieldnames)\n",
    "#     writer.writeheader()\n",
    "#     measure = 'Accuracy'\n",
    "#     writer.writerow({'Statistic Measure' : measure,  'SVM': accuracySVM , 'Random Forest': accuracyRF, 'Naive Bayes': accuracyNB})\n",
    "# dfT = pd.read_csv('test.tsv', sep='\\t')\n",
    "# #target = dfT[\"Id\"]\n",
    "# categories = [\"Attribute1\",\"Attribute3\",\"Attribute4\",\"Attribute6\",\"Attribute7\",\"Attribute9\",\"Attribute10\",\"Attribute12\",\"Attribute14\",\"Attribute15\", \"Attribute17\", \"Attribute19\",\"Attribute20\"]\n",
    "# new_dfT = dfT.copy()\n",
    "\n",
    "# IDs = dfT[\"Id\"]\n",
    "# for x in categories:\n",
    "#     converted = pd.Categorical(dfT[x])\n",
    "#     new_dfT[x] = converted.codes\n",
    "\n",
    "# exclude=[\"Id\"]\n",
    "# dfneT =dfT.columns.difference(exclude)\n",
    "# new_dfT = new_dfT[dfneT]\n",
    "\n",
    "# category_dict = {1:'Good', 2:'Bad'}\n",
    "\n",
    "# classifier = RandomForestClassifier(warm_start=True, max_features=\"sqrt\", random_state=RANDOM_STATE)\n",
    "# classifier.fit(new_df, target)\n",
    "# prediction = classifier.predict(new_dfT)\n",
    "# id =0\n",
    "# with open('testSet_categories_RandomForest.csv', 'w') as csvfile4:\n",
    "#     fieldnames = ['ID', 'Label']\n",
    "#     writer = csv.DictWriter(csvfile4, fieldnames = fieldnames)\n",
    "#     writer.writeheader()\n",
    "#     for i in range(len(prediction)):\n",
    "#         writer.writerow({'ID': IDs[i], 'Label': category_dict[prediction[i]]})\n",
    "#         id +=1\n",
    "# print('Created testSet_categories_RandomForest.csv')"
   ]
  },
  {
   "cell_type": "markdown",
   "metadata": {},
   "source": [
    "# Conclusion"
   ]
  },
  {
   "cell_type": "markdown",
   "metadata": {
    "collapsed": true
   },
   "source": [
    "As we can see from the above accuracies, Random Forest is the Classifier with the best accuracy so we are going to use it on the 3rd Part of the Exercise!"
   ]
  }
 ],
 "metadata": {
  "kernelspec": {
   "display_name": "Python 3",
   "language": "python",
   "name": "python3"
  },
  "language_info": {
   "codemirror_mode": {
    "name": "ipython",
    "version": 3
   },
   "file_extension": ".py",
   "mimetype": "text/x-python",
   "name": "python",
   "nbconvert_exporter": "python",
   "pygments_lexer": "ipython3",
   "version": "3.6.1"
  }
 },
 "nbformat": 4,
 "nbformat_minor": 2
}
